{
 "cells": [
  {
   "cell_type": "markdown",
   "metadata": {},
   "source": [
    "# Definición de clases: Agente y Entorno"
   ]
  },
  {
   "cell_type": "markdown",
   "metadata": {},
   "source": [
    "A continuación se definen las clases y métodos necesarios para su uso posterior en el algoritmo de aprendizaje pro refuerze.\n",
    "Las clases principales son las de el **Agente**(Agent) y el **Entorno**(Environment)."
   ]
  },
  {
   "cell_type": "code",
   "execution_count": 30,
   "metadata": {},
   "outputs": [],
   "source": [
    "import numpy as np\n",
    "import random\n",
    "import copy\n",
    "\n",
    "Q = {} #dictionary for the Q function [(state, action), value]\n",
    "\n",
    "b = 0.95 #bias parameter (particular to the example)\n",
    "\n",
    "Actions = [0, 1, 2] #list of possible agent's actions (particular to the example)\n",
    "\n",
    "Q[(0,0)] = 0.0 ### some initializations particular to the example\n",
    "amax0 = 0 ### some initializations particular to the example \n",
    "\n",
    "class Envsim: # the necessary methods and data structures for the simulation of the environment\n",
    "\n",
    "      def __init__(self, name):\n",
    "        self.name = name\n",
    "\n",
    "      def rand0(self, state):\n",
    "          s = copy.copy(state)\n",
    "          s = s + 2.0*(random.randint(0, 1) - 0.5)\n",
    "          #print(s, round(s))\n",
    "          return round(s)\n",
    "          \n",
    "      def rand1(self, state):\n",
    "          s = copy.copy(state)\n",
    "          u = random.uniform(0,1)\n",
    "          #print(s)\n",
    "          if u < b:\n",
    "             s = s + 1\n",
    "          else:\n",
    "             s = s - 1\n",
    "          #print(u,s)\n",
    "          return s\n",
    "          \n",
    "      def rand2(self, state):\n",
    "          s = copy.copy(state)\n",
    "          u = random.uniform(0,1)\n",
    "          #print(s)\n",
    "          if u < b:\n",
    "             s = s - 1\n",
    "          else:\n",
    "             s = s + 1\n",
    "          #print(u,s)\n",
    "          return s   \n",
    "\n",
    "      def Enviro(self, state, action): # Given a (state_t, action_t) pair, it generates (s_t+1, r_t+1)\n",
    "          a = copy.copy(action)\n",
    "          s = copy.copy(state)\n",
    "          z = Envsim(self)\n",
    "          r = 0.0\n",
    "          ra = -1.0\n",
    "          rb = 1.0\n",
    "          rc = 0.0\n",
    "          if a==0:\n",
    "             s = z.rand0(state)\n",
    "          if a==1:\n",
    "             s = z.rand1(state)\n",
    "          if a==2:\n",
    "             s = z.rand2(state)\n",
    "          else:\n",
    "             s = s\n",
    "             \n",
    "          if -10 < s < 0:\n",
    "             r = ra\n",
    "          if 0 < s < 10:\n",
    "             r = rb    \n",
    "          if s == 0:\n",
    "             r = rc  \n",
    "          \n",
    "          return s, r\n",
    "                    \n",
    "class Policy: #class for action selection and value updates according to the Q-Learning rule\n",
    "\n",
    "      def __init__(self, name):\n",
    "          self.name = name\n",
    "\n",
    "      def maxq(self, state, Actions):\n",
    "          s = copy.copy(state)\n",
    "          max = -10e10\n",
    "          amax = None\n",
    "          for a in Actions:\n",
    "              u = Q.get(tuple([s,a])) #value associated to the key list [s,a]\n",
    "              if u is None:\n",
    "                 u = -20e10\n",
    "              if u > max:\n",
    "                 amax = copy.copy(a)\n",
    "                 max = copy.copy(u)\n",
    "          #print(s, amax)\n",
    "          return amax\n",
    "          \n",
    "      def epsilon_greedy(self, state, Actions): #epsilon-greedy decisions for systems \n",
    "          #in which is possible to select any action at random given state s\n",
    "          epsilon = 0.1\n",
    "          z = Policy(self)\n",
    "          comple = np.random.rand()\n",
    "          if epsilon > comple:\n",
    "             #chooses and action at random\n",
    "             a = random.randint(0, (len(Actions)-1))\n",
    "             #print(a)\n",
    "             return a\n",
    "          else:\n",
    "              #Returns the action with the maximum Q-value\n",
    "              a = z.maxq(state, Actions)\n",
    "              #print(a)\n",
    "              return a\n",
    "          \n",
    "      def updateq(self, s0,a0,r1,s1,a1):\n",
    "          alpha = 0.2 #learning rate\n",
    "          gamma = 1.0 #discount factor\n",
    "          q0 = Q.get((s0,a0))\n",
    "          if q0 is None:\n",
    "                 q0 = 0.0\n",
    "          q1 = Q.get((s1,a1))\n",
    "          if q1 is None:\n",
    "                 q1 = 0.0\n",
    "          u = q0 + alpha*(r1 + gamma*q1 - q0)         \n",
    "          Q[(s0,a0)] = u\n",
    "          return \n",
    "\n",
    "### These are the generic fundamental classes for Q-learning ###################\n",
    "class Agent:\n",
    "\n",
    "    def __init__(self, name):\n",
    "        self.name = name\n",
    "        \n",
    "    def action_reset(self):\n",
    "        action = 0\n",
    "        return action\n",
    "          \n",
    "    def act(self, state):\n",
    "        z = Policy(self)\n",
    "        s = copy.copy(state)\n",
    "        #a = z.maxq(s, Actions)\n",
    "        a = z.epsilon_greedy(s, Actions)\n",
    "        #print(a)\n",
    "        return a\n",
    "    \n",
    "    def update(self, state0, action0, reward, state, action):\n",
    "        s0 = copy.copy(state0)\n",
    "        a0 = copy.copy(action0)\n",
    "        r1 = copy.copy(reward)\n",
    "        s1 = copy.copy(state)\n",
    "        a1 = copy.copy(action)\n",
    "        z = Policy(self)\n",
    "        z.updateq(s0,a0,r1,s1,a1)\n",
    "        return\n",
    "\n",
    "class Environment:\n",
    "\n",
    "    def __init__(self, name):\n",
    "        self.name = name\n",
    "        \n",
    "    def reset(self):\n",
    "          state = 0\n",
    "          return state\n",
    "          \n",
    "    def step(self, state, action):\n",
    "        s = copy.copy(state)\n",
    "        a = copy.copy(action)\n",
    "        z = Envsim(self)\n",
    "        s, r = z.Enviro(s,a)\n",
    "        return s, r\n",
    "    \n",
    "    def done(self, state):\n",
    "        if state == -10 or state == 10:\n",
    "           vdone = True\n",
    "        else:\n",
    "            vdone = False\n",
    "        return vdone"
   ]
  },
  {
   "cell_type": "markdown",
   "metadata": {},
   "source": [
    "# 1) Explicar cómo se relacionan las funciones de ambos y cómo se logra en sí la implementación de las funciones en pseudo-código del Algoritmo 1.1 en el programa ql2.py"
   ]
  },
  {
   "cell_type": "markdown",
   "metadata": {},
   "source": [
    "El algoritmo principal de aprendizaje por refuerzo se explica en el pseudocódigo siguiente:"
   ]
  },
  {
   "cell_type": "markdown",
   "metadata": {},
   "source": [
    "![title](Alg1.1.PNG)"
   ]
  },
  {
   "cell_type": "markdown",
   "metadata": {},
   "source": [
    "## Explicación del pseudocódigo"
   ]
  },
  {
   "cell_type": "markdown",
   "metadata": {},
   "source": [
    "A continuación se explica cada una de las lineas del pseudocódigo y como se relacionan con las lineas del programa del archivo ql2.py. A su vez, las lineas de python correspindientes seran ejecutadas para terminar con el algoritmo completo."
   ]
  },
  {
   "cell_type": "markdown",
   "metadata": {},
   "source": [
    "1. Es necesario primero definir al agente y al entorno para el algoritmo, se definen el número máximo de episodios, esto se hace en la variable ```MAX_EPISODE```, en primera instancia este se asigna a un valor de 500. Además también se define la variable del número de pasos que el agente puede recorrer cada iteración ```MAX_TIME```, primero se empieza con 3, para posteriormente cambiarlo a 10 y observar la curva de aprendizaje resultante.\n",
    "Se definen el agente en la variable ```agent``` y el entorno en la vairbale ```env``` con las clases antes definidas. Esto corresponde solo a la línea número uno de el pseudocódigo pues aún no se empieza con los ciclos del entrenamiento."
   ]
  },
  {
   "cell_type": "code",
   "execution_count": 31,
   "metadata": {},
   "outputs": [],
   "source": [
    "MAX_EPISODE = 500\n",
    "# Default 3 steps each episode\n",
    "# MAX_TIME = 3 \n",
    "\n",
    "# 2) Permitir al agente explorar 10 pasos cada episodio\n",
    "# MAX_TIME = 10\n",
    "\n",
    "# Dejar que el agente explore 50 pasos para observar la convergencia de la curva de aprendizaje\n",
    "MAX_TIME = 50\n",
    "\n",
    "agent = Agent(\"James Bond\")\n",
    "env = Environment(\"in a dangerous environment\")"
   ]
  },
  {
   "cell_type": "markdown",
   "metadata": {},
   "source": [
    "2. Se empieza el ciclo que lleva a capo el número de episodios definidos, desde 0 hasta el número máximo de episodios definido ```MAX_EPISODE = 500```. Dentro del ciclo de los episodios se realiza le ejecución del método ```env.reset()```. Para reinicializar el entorno para cada iteración y esto corresponde a la línea 3 del pseudocódigo. Despues se hace ejecuta también el método ```agent.action_reset()``` para el agente para cada iteración. Este paso es necesario ya que el agente y el entorno deben ser reinicializados para asegurar el proceso de aprendizaje."
   ]
  },
  {
   "cell_type": "markdown",
   "metadata": {},
   "source": [
    "3. Se define tambíen una variable ```l``` que va aguardar los valores de la curva de aprendizaje para ser graficada despues de realizar el algoritmo.\n",
    "Comienza el segudo ciclo de 0 al número máximo de pasos ```MAX_TIME = 10```. Dentro de este ciclo se ejecuta el método de estado ```copy.copy(state)```, esto corresponde a la línea 6 del pseudocódigo. Inmediatamente despues se realiza la acción para el agente ```copy.copy(action)``` y se asigna la recompensa con estos previamente asignados ```state, reward = env.step(state0, action0)```. Ahora que se tiene los valores para la recompensa, el estado y la acción, se realiza la actualización del agente con el método ```agent.update(state0, action0, reward, state, action)```, y con esto el agente puede actuar ```action = agent.act(state)```, y este ultimo paso corresponde a la línea 9 del pseudocódigo."
   ]
  },
  {
   "cell_type": "code",
   "execution_count": 32,
   "metadata": {},
   "outputs": [],
   "source": [
    "l = [None] * MAX_EPISODE #list to draw the learning curve\n",
    "\n",
    "for episode in range(MAX_EPISODE):\n",
    "    state = env.reset()\n",
    "    action = agent.action_reset() #depending on the learning problem\n",
    "    cur = 0.0 #cumulative reward for visualization purposes\n",
    "    for t in range(MAX_TIME):\n",
    "        state0 = copy.copy(state)\n",
    "        action0 = copy.copy(action)\n",
    "        state, reward = env.step(state0, action0)                \n",
    "        agent.update(state0, action0, reward, state, action)\n",
    "        action = agent.act(state)\n",
    "        cur = cur + reward\n",
    "        if env.done(state) == True:\n",
    "           break\n",
    "    l[episode] = cur"
   ]
  },
  {
   "cell_type": "markdown",
   "metadata": {},
   "source": [
    "4. Una vez terminado los ciclos esto indica que el proceso de aprendizaje se ha completado, y con los valores de la curva de aprendizaje guardados en la variable ```l```, podemos graficar como se dió esta curva."
   ]
  },
  {
   "cell_type": "markdown",
   "metadata": {},
   "source": [
    "# 2) Permitir al agente explorar durante 10 pasos cada episodio. Explicar la curva de aprendizaje resultante."
   ]
  },
  {
   "cell_type": "markdown",
   "metadata": {},
   "source": [
    "Puesto que la curva de aprendizaje para 10 pasos por episodio es en el mejor caso caotica para interpretar. Se decidio poner 50 pasos por episodio par observar mejor el comportamiento de la curva de aprendizaje."
   ]
  },
  {
   "cell_type": "code",
   "execution_count": 33,
   "metadata": {},
   "outputs": [
    {
     "data": {
      "image/png": "[encoded data removed]",
      "text/plain": [
       "<Figure size 432x288 with 1 Axes>"
      ]
     },
     "metadata": {
      "needs_background": "light"
     },
     "output_type": "display_data"
    }
   ],
   "source": [
    "import matplotlib.pyplot as plt\n",
    "plt.plot(l)\n",
    "plt.savefig(\"./50pasos.png\")\n",
    "plt.show()\n"
   ]
  },
  {
   "cell_type": "markdown",
   "metadata": {},
   "source": [
    "Al observar la gráfica se puede observar como al paso del tiempo los valores convergen al número de pasos asignados incialmente, esto indica que para cada paso en las iteraciones de los episodios el aprendizajese lleva a cabo, y es al final de las iteraciones donde se consiguen los kejores valores de rendimiento para el algoritmo. Como se puede observar se empieza desde los valores negativos y conforme avanza en los episodios los mínimos disminuyen convergiendo en los número positivos cercanos al número máximo de pasos por episodio. Cuando se le permite al agente explorar 10 pasos por episodio los resultados son más caoticos debido que se necesita más esfuerzo para que el agente aprenda el comportamiento adecuado lo cual oscila entre los errores y es suceptible a los sesgos.\n",
    "\n",
    "Para comparar a continuación se muestra la gráfica resultante para 10 pasos por episodio."
   ]
  },
  {
   "cell_type": "markdown",
   "metadata": {},
   "source": [
    "![pasos](pasos.png)"
   ]
  }
 ],
 "metadata": {
  "kernelspec": {
   "display_name": "env",
   "language": "python",
   "name": "env"
  },
  "language_info": {
   "codemirror_mode": {
    "name": "ipython",
    "version": 3
   },
   "file_extension": ".py",
   "mimetype": "text/x-python",
   "name": "python",
   "nbconvert_exporter": "python",
   "pygments_lexer": "ipython3",
   "version": "3.8.5"
  }
 },
 "nbformat": 4,
 "nbformat_minor": 2
}