{
 "cells": [
  {
   "cell_type": "markdown",
   "id": "c0553acf",
   "metadata": {},
   "source": [
    "# Actividad 4.1 - Redes neuronales artificiales"
   ]
  },
  {
   "cell_type": "markdown",
   "id": "8cf187f2",
   "metadata": {},
   "source": [
    "Construcción y entrenamiento de un modelo de red neuronal par la predicción de precios de casas utilizando el conjunto de datos de Boston_House_Prices."
   ]
  },
  {
   "cell_type": "markdown",
   "id": "7ceb4569",
   "metadata": {},
   "source": [
    "## Analísis de datos"
   ]
  },
  {
   "cell_type": "markdown",
   "id": "240d13b9",
   "metadata": {},
   "source": [
    "### Carga de datos"
   ]
  },
  {
   "cell_type": "code",
   "execution_count": 4,
   "id": "92a426a8",
   "metadata": {},
   "outputs": [],
   "source": [
    "import pandas as pd\n",
    "import numpy as np\n",
    "from sklearn.datasets import load_boston"
   ]
  },
  {
   "cell_type": "code",
   "execution_count": 3,
   "id": "61cc81cc",
   "metadata": {},
   "outputs": [],
   "source": [
    "boston = load_boston()"
   ]
  },
  {
   "cell_type": "code",
   "execution_count": 5,
   "id": "b1add2fe",
   "metadata": {},
   "outputs": [],
   "source": [
    "data = pd.DataFrame(boston.data)"
   ]
  },
  {
   "cell_type": "code",
   "execution_count": 6,
   "id": "b8a5f636",
   "metadata": {},
   "outputs": [
    {
     "data": {
      "text/html": [
       "<div>\n",
       "<style scoped>\n",
       "    .dataframe tbody tr th:only-of-type {\n",
       "        vertical-align: middle;\n",
       "    }\n",
       "\n",
       "    .dataframe tbody tr th {\n",
       "        vertical-align: top;\n",
       "    }\n",
       "\n",
       "    .dataframe thead th {\n",
       "        text-align: right;\n",
       "    }\n",
       "</style>\n",
       "<table border=\"1\" class=\"dataframe\">\n",
       "  <thead>\n",
       "    <tr style=\"text-align: right;\">\n",
       "      <th></th>\n",
       "      <th>0</th>\n",
       "      <th>1</th>\n",
       "      <th>2</th>\n",
       "      <th>3</th>\n",
       "      <th>4</th>\n",
       "      <th>5</th>\n",
       "      <th>6</th>\n",
       "      <th>7</th>\n",
       "      <th>8</th>\n",
       "      <th>9</th>\n",
       "      <th>10</th>\n",
       "      <th>11</th>\n",
       "      <th>12</th>\n",
       "    </tr>\n",
       "  </thead>\n",
       "  <tbody>\n",
       "    <tr>\n",
       "      <th>0</th>\n",
       "      <td>0.00632</td>\n",
       "      <td>18.0</td>\n",
       "      <td>2.31</td>\n",
       "      <td>0.0</td>\n",
       "      <td>0.538</td>\n",
       "      <td>6.575</td>\n",
       "      <td>65.2</td>\n",
       "      <td>4.0900</td>\n",
       "      <td>1.0</td>\n",
       "      <td>296.0</td>\n",
       "      <td>15.3</td>\n",
       "      <td>396.90</td>\n",
       "      <td>4.98</td>\n",
       "    </tr>\n",
       "    <tr>\n",
       "      <th>1</th>\n",
       "      <td>0.02731</td>\n",
       "      <td>0.0</td>\n",
       "      <td>7.07</td>\n",
       "      <td>0.0</td>\n",
       "      <td>0.469</td>\n",
       "      <td>6.421</td>\n",
       "      <td>78.9</td>\n",
       "      <td>4.9671</td>\n",
       "      <td>2.0</td>\n",
       "      <td>242.0</td>\n",
       "      <td>17.8</td>\n",
       "      <td>396.90</td>\n",
       "      <td>9.14</td>\n",
       "    </tr>\n",
       "    <tr>\n",
       "      <th>2</th>\n",
       "      <td>0.02729</td>\n",
       "      <td>0.0</td>\n",
       "      <td>7.07</td>\n",
       "      <td>0.0</td>\n",
       "      <td>0.469</td>\n",
       "      <td>7.185</td>\n",
       "      <td>61.1</td>\n",
       "      <td>4.9671</td>\n",
       "      <td>2.0</td>\n",
       "      <td>242.0</td>\n",
       "      <td>17.8</td>\n",
       "      <td>392.83</td>\n",
       "      <td>4.03</td>\n",
       "    </tr>\n",
       "    <tr>\n",
       "      <th>3</th>\n",
       "      <td>0.03237</td>\n",
       "      <td>0.0</td>\n",
       "      <td>2.18</td>\n",
       "      <td>0.0</td>\n",
       "      <td>0.458</td>\n",
       "      <td>6.998</td>\n",
       "      <td>45.8</td>\n",
       "      <td>6.0622</td>\n",
       "      <td>3.0</td>\n",
       "      <td>222.0</td>\n",
       "      <td>18.7</td>\n",
       "      <td>394.63</td>\n",
       "      <td>2.94</td>\n",
       "    </tr>\n",
       "    <tr>\n",
       "      <th>4</th>\n",
       "      <td>0.06905</td>\n",
       "      <td>0.0</td>\n",
       "      <td>2.18</td>\n",
       "      <td>0.0</td>\n",
       "      <td>0.458</td>\n",
       "      <td>7.147</td>\n",
       "      <td>54.2</td>\n",
       "      <td>6.0622</td>\n",
       "      <td>3.0</td>\n",
       "      <td>222.0</td>\n",
       "      <td>18.7</td>\n",
       "      <td>396.90</td>\n",
       "      <td>5.33</td>\n",
       "    </tr>\n",
       "  </tbody>\n",
       "</table>\n",
       "</div>"
      ],
      "text/plain": [
       "        0     1     2    3      4      5     6       7    8      9     10  \\\n",
       "0  0.00632  18.0  2.31  0.0  0.538  6.575  65.2  4.0900  1.0  296.0  15.3   \n",
       "1  0.02731   0.0  7.07  0.0  0.469  6.421  78.9  4.9671  2.0  242.0  17.8   \n",
       "2  0.02729   0.0  7.07  0.0  0.469  7.185  61.1  4.9671  2.0  242.0  17.8   \n",
       "3  0.03237   0.0  2.18  0.0  0.458  6.998  45.8  6.0622  3.0  222.0  18.7   \n",
       "4  0.06905   0.0  2.18  0.0  0.458  7.147  54.2  6.0622  3.0  222.0  18.7   \n",
       "\n",
       "       11    12  \n",
       "0  396.90  4.98  \n",
       "1  396.90  9.14  \n",
       "2  392.83  4.03  \n",
       "3  394.63  2.94  \n",
       "4  396.90  5.33  "
      ]
     },
     "execution_count": 6,
     "metadata": {},
     "output_type": "execute_result"
    }
   ],
   "source": [
    "data.head()"
   ]
  },
  {
   "cell_type": "markdown",
   "id": "1ebbe3b5",
   "metadata": {},
   "source": [
    "Asigando precio y nombre de columnas"
   ]
  },
  {
   "cell_type": "code",
   "execution_count": 7,
   "id": "d9bcf597",
   "metadata": {},
   "outputs": [],
   "source": [
    "data.columns = boston.feature_names"
   ]
  },
  {
   "cell_type": "code",
   "execution_count": 17,
   "id": "483e3649",
   "metadata": {},
   "outputs": [],
   "source": [
    "data['PRICE'] = boston.target"
   ]
  },
  {
   "cell_type": "code",
   "execution_count": 18,
   "id": "99427768",
   "metadata": {},
   "outputs": [
    {
     "data": {
      "text/html": [
       "<div>\n",
       "<style scoped>\n",
       "    .dataframe tbody tr th:only-of-type {\n",
       "        vertical-align: middle;\n",
       "    }\n",
       "\n",
       "    .dataframe tbody tr th {\n",
       "        vertical-align: top;\n",
       "    }\n",
       "\n",
       "    .dataframe thead th {\n",
       "        text-align: right;\n",
       "    }\n",
       "</style>\n",
       "<table border=\"1\" class=\"dataframe\">\n",
       "  <thead>\n",
       "    <tr style=\"text-align: right;\">\n",
       "      <th></th>\n",
       "      <th>CRIM</th>\n",
       "      <th>ZN</th>\n",
       "      <th>INDUS</th>\n",
       "      <th>CHAS</th>\n",
       "      <th>NOX</th>\n",
       "      <th>RM</th>\n",
       "      <th>AGE</th>\n",
       "      <th>DIS</th>\n",
       "      <th>RAD</th>\n",
       "      <th>TAX</th>\n",
       "      <th>PTRATIO</th>\n",
       "      <th>B</th>\n",
       "      <th>LSTAT</th>\n",
       "      <th>PRICE</th>\n",
       "    </tr>\n",
       "  </thead>\n",
       "  <tbody>\n",
       "    <tr>\n",
       "      <th>0</th>\n",
       "      <td>0.00632</td>\n",
       "      <td>18.0</td>\n",
       "      <td>2.31</td>\n",
       "      <td>0.0</td>\n",
       "      <td>0.538</td>\n",
       "      <td>6.575</td>\n",
       "      <td>65.2</td>\n",
       "      <td>4.0900</td>\n",
       "      <td>1.0</td>\n",
       "      <td>296.0</td>\n",
       "      <td>15.3</td>\n",
       "      <td>396.90</td>\n",
       "      <td>4.98</td>\n",
       "      <td>24.0</td>\n",
       "    </tr>\n",
       "    <tr>\n",
       "      <th>1</th>\n",
       "      <td>0.02731</td>\n",
       "      <td>0.0</td>\n",
       "      <td>7.07</td>\n",
       "      <td>0.0</td>\n",
       "      <td>0.469</td>\n",
       "      <td>6.421</td>\n",
       "      <td>78.9</td>\n",
       "      <td>4.9671</td>\n",
       "      <td>2.0</td>\n",
       "      <td>242.0</td>\n",
       "      <td>17.8</td>\n",
       "      <td>396.90</td>\n",
       "      <td>9.14</td>\n",
       "      <td>21.6</td>\n",
       "    </tr>\n",
       "    <tr>\n",
       "      <th>2</th>\n",
       "      <td>0.02729</td>\n",
       "      <td>0.0</td>\n",
       "      <td>7.07</td>\n",
       "      <td>0.0</td>\n",
       "      <td>0.469</td>\n",
       "      <td>7.185</td>\n",
       "      <td>61.1</td>\n",
       "      <td>4.9671</td>\n",
       "      <td>2.0</td>\n",
       "      <td>242.0</td>\n",
       "      <td>17.8</td>\n",
       "      <td>392.83</td>\n",
       "      <td>4.03</td>\n",
       "      <td>34.7</td>\n",
       "    </tr>\n",
       "    <tr>\n",
       "      <th>3</th>\n",
       "      <td>0.03237</td>\n",
       "      <td>0.0</td>\n",
       "      <td>2.18</td>\n",
       "      <td>0.0</td>\n",
       "      <td>0.458</td>\n",
       "      <td>6.998</td>\n",
       "      <td>45.8</td>\n",
       "      <td>6.0622</td>\n",
       "      <td>3.0</td>\n",
       "      <td>222.0</td>\n",
       "      <td>18.7</td>\n",
       "      <td>394.63</td>\n",
       "      <td>2.94</td>\n",
       "      <td>33.4</td>\n",
       "    </tr>\n",
       "    <tr>\n",
       "      <th>4</th>\n",
       "      <td>0.06905</td>\n",
       "      <td>0.0</td>\n",
       "      <td>2.18</td>\n",
       "      <td>0.0</td>\n",
       "      <td>0.458</td>\n",
       "      <td>7.147</td>\n",
       "      <td>54.2</td>\n",
       "      <td>6.0622</td>\n",
       "      <td>3.0</td>\n",
       "      <td>222.0</td>\n",
       "      <td>18.7</td>\n",
       "      <td>396.90</td>\n",
       "      <td>5.33</td>\n",
       "      <td>36.2</td>\n",
       "    </tr>\n",
       "  </tbody>\n",
       "</table>\n",
       "</div>"
      ],
      "text/plain": [
       "      CRIM    ZN  INDUS  CHAS    NOX     RM   AGE     DIS  RAD    TAX  \\\n",
       "0  0.00632  18.0   2.31   0.0  0.538  6.575  65.2  4.0900  1.0  296.0   \n",
       "1  0.02731   0.0   7.07   0.0  0.469  6.421  78.9  4.9671  2.0  242.0   \n",
       "2  0.02729   0.0   7.07   0.0  0.469  7.185  61.1  4.9671  2.0  242.0   \n",
       "3  0.03237   0.0   2.18   0.0  0.458  6.998  45.8  6.0622  3.0  222.0   \n",
       "4  0.06905   0.0   2.18   0.0  0.458  7.147  54.2  6.0622  3.0  222.0   \n",
       "\n",
       "   PTRATIO       B  LSTAT  PRICE  \n",
       "0     15.3  396.90   4.98   24.0  \n",
       "1     17.8  396.90   9.14   21.6  \n",
       "2     17.8  392.83   4.03   34.7  \n",
       "3     18.7  394.63   2.94   33.4  \n",
       "4     18.7  396.90   5.33   36.2  "
      ]
     },
     "execution_count": 18,
     "metadata": {},
     "output_type": "execute_result"
    }
   ],
   "source": [
    "data.head()"
   ]
  },
  {
   "cell_type": "code",
   "execution_count": 19,
   "id": "1e9439c2",
   "metadata": {},
   "outputs": [
    {
     "name": "stdout",
     "output_type": "stream",
     "text": [
      "(506, 14)\n"
     ]
    }
   ],
   "source": [
    "print(data.shape)"
   ]
  },
  {
   "cell_type": "markdown",
   "id": "fa8a1d6a",
   "metadata": {},
   "source": [
    "Corroborando si existen valores nulos"
   ]
  },
  {
   "cell_type": "code",
   "execution_count": 20,
   "id": "26e3675d",
   "metadata": {},
   "outputs": [
    {
     "data": {
      "text/plain": [
       "CRIM       0\n",
       "ZN         0\n",
       "INDUS      0\n",
       "CHAS       0\n",
       "NOX        0\n",
       "RM         0\n",
       "AGE        0\n",
       "DIS        0\n",
       "RAD        0\n",
       "TAX        0\n",
       "PTRATIO    0\n",
       "B          0\n",
       "LSTAT      0\n",
       "PRICE      0\n",
       "dtype: int64"
      ]
     },
     "execution_count": 20,
     "metadata": {},
     "output_type": "execute_result"
    }
   ],
   "source": [
    "data.isnull().sum()"
   ]
  },
  {
   "cell_type": "markdown",
   "id": "303c6e1b",
   "metadata": {},
   "source": [
    "Estadisticas descriptivas"
   ]
  },
  {
   "cell_type": "code",
   "execution_count": 21,
   "id": "4b4421b7",
   "metadata": {},
   "outputs": [
    {
     "data": {
      "text/html": [
       "<div>\n",
       "<style scoped>\n",
       "    .dataframe tbody tr th:only-of-type {\n",
       "        vertical-align: middle;\n",
       "    }\n",
       "\n",
       "    .dataframe tbody tr th {\n",
       "        vertical-align: top;\n",
       "    }\n",
       "\n",
       "    .dataframe thead th {\n",
       "        text-align: right;\n",
       "    }\n",
       "</style>\n",
       "<table border=\"1\" class=\"dataframe\">\n",
       "  <thead>\n",
       "    <tr style=\"text-align: right;\">\n",
       "      <th></th>\n",
       "      <th>CRIM</th>\n",
       "      <th>ZN</th>\n",
       "      <th>INDUS</th>\n",
       "      <th>CHAS</th>\n",
       "      <th>NOX</th>\n",
       "      <th>RM</th>\n",
       "      <th>AGE</th>\n",
       "      <th>DIS</th>\n",
       "      <th>RAD</th>\n",
       "      <th>TAX</th>\n",
       "      <th>PTRATIO</th>\n",
       "      <th>B</th>\n",
       "      <th>LSTAT</th>\n",
       "      <th>PRICE</th>\n",
       "    </tr>\n",
       "  </thead>\n",
       "  <tbody>\n",
       "    <tr>\n",
       "      <th>count</th>\n",
       "      <td>506.000000</td>\n",
       "      <td>506.000000</td>\n",
       "      <td>506.000000</td>\n",
       "      <td>506.000000</td>\n",
       "      <td>506.000000</td>\n",
       "      <td>506.000000</td>\n",
       "      <td>506.000000</td>\n",
       "      <td>506.000000</td>\n",
       "      <td>506.000000</td>\n",
       "      <td>506.000000</td>\n",
       "      <td>506.000000</td>\n",
       "      <td>506.000000</td>\n",
       "      <td>506.000000</td>\n",
       "      <td>506.000000</td>\n",
       "    </tr>\n",
       "    <tr>\n",
       "      <th>mean</th>\n",
       "      <td>3.613524</td>\n",
       "      <td>11.363636</td>\n",
       "      <td>11.136779</td>\n",
       "      <td>0.069170</td>\n",
       "      <td>0.554695</td>\n",
       "      <td>6.284634</td>\n",
       "      <td>68.574901</td>\n",
       "      <td>3.795043</td>\n",
       "      <td>9.549407</td>\n",
       "      <td>408.237154</td>\n",
       "      <td>18.455534</td>\n",
       "      <td>356.674032</td>\n",
       "      <td>12.653063</td>\n",
       "      <td>22.532806</td>\n",
       "    </tr>\n",
       "    <tr>\n",
       "      <th>std</th>\n",
       "      <td>8.601545</td>\n",
       "      <td>23.322453</td>\n",
       "      <td>6.860353</td>\n",
       "      <td>0.253994</td>\n",
       "      <td>0.115878</td>\n",
       "      <td>0.702617</td>\n",
       "      <td>28.148861</td>\n",
       "      <td>2.105710</td>\n",
       "      <td>8.707259</td>\n",
       "      <td>168.537116</td>\n",
       "      <td>2.164946</td>\n",
       "      <td>91.294864</td>\n",
       "      <td>7.141062</td>\n",
       "      <td>9.197104</td>\n",
       "    </tr>\n",
       "    <tr>\n",
       "      <th>min</th>\n",
       "      <td>0.006320</td>\n",
       "      <td>0.000000</td>\n",
       "      <td>0.460000</td>\n",
       "      <td>0.000000</td>\n",
       "      <td>0.385000</td>\n",
       "      <td>3.561000</td>\n",
       "      <td>2.900000</td>\n",
       "      <td>1.129600</td>\n",
       "      <td>1.000000</td>\n",
       "      <td>187.000000</td>\n",
       "      <td>12.600000</td>\n",
       "      <td>0.320000</td>\n",
       "      <td>1.730000</td>\n",
       "      <td>5.000000</td>\n",
       "    </tr>\n",
       "    <tr>\n",
       "      <th>25%</th>\n",
       "      <td>0.082045</td>\n",
       "      <td>0.000000</td>\n",
       "      <td>5.190000</td>\n",
       "      <td>0.000000</td>\n",
       "      <td>0.449000</td>\n",
       "      <td>5.885500</td>\n",
       "      <td>45.025000</td>\n",
       "      <td>2.100175</td>\n",
       "      <td>4.000000</td>\n",
       "      <td>279.000000</td>\n",
       "      <td>17.400000</td>\n",
       "      <td>375.377500</td>\n",
       "      <td>6.950000</td>\n",
       "      <td>17.025000</td>\n",
       "    </tr>\n",
       "    <tr>\n",
       "      <th>50%</th>\n",
       "      <td>0.256510</td>\n",
       "      <td>0.000000</td>\n",
       "      <td>9.690000</td>\n",
       "      <td>0.000000</td>\n",
       "      <td>0.538000</td>\n",
       "      <td>6.208500</td>\n",
       "      <td>77.500000</td>\n",
       "      <td>3.207450</td>\n",
       "      <td>5.000000</td>\n",
       "      <td>330.000000</td>\n",
       "      <td>19.050000</td>\n",
       "      <td>391.440000</td>\n",
       "      <td>11.360000</td>\n",
       "      <td>21.200000</td>\n",
       "    </tr>\n",
       "    <tr>\n",
       "      <th>75%</th>\n",
       "      <td>3.677083</td>\n",
       "      <td>12.500000</td>\n",
       "      <td>18.100000</td>\n",
       "      <td>0.000000</td>\n",
       "      <td>0.624000</td>\n",
       "      <td>6.623500</td>\n",
       "      <td>94.075000</td>\n",
       "      <td>5.188425</td>\n",
       "      <td>24.000000</td>\n",
       "      <td>666.000000</td>\n",
       "      <td>20.200000</td>\n",
       "      <td>396.225000</td>\n",
       "      <td>16.955000</td>\n",
       "      <td>25.000000</td>\n",
       "    </tr>\n",
       "    <tr>\n",
       "      <th>max</th>\n",
       "      <td>88.976200</td>\n",
       "      <td>100.000000</td>\n",
       "      <td>27.740000</td>\n",
       "      <td>1.000000</td>\n",
       "      <td>0.871000</td>\n",
       "      <td>8.780000</td>\n",
       "      <td>100.000000</td>\n",
       "      <td>12.126500</td>\n",
       "      <td>24.000000</td>\n",
       "      <td>711.000000</td>\n",
       "      <td>22.000000</td>\n",
       "      <td>396.900000</td>\n",
       "      <td>37.970000</td>\n",
       "      <td>50.000000</td>\n",
       "    </tr>\n",
       "  </tbody>\n",
       "</table>\n",
       "</div>"
      ],
      "text/plain": [
       "             CRIM          ZN       INDUS        CHAS         NOX          RM  \\\n",
       "count  506.000000  506.000000  506.000000  506.000000  506.000000  506.000000   \n",
       "mean     3.613524   11.363636   11.136779    0.069170    0.554695    6.284634   \n",
       "std      8.601545   23.322453    6.860353    0.253994    0.115878    0.702617   \n",
       "min      0.006320    0.000000    0.460000    0.000000    0.385000    3.561000   \n",
       "25%      0.082045    0.000000    5.190000    0.000000    0.449000    5.885500   \n",
       "50%      0.256510    0.000000    9.690000    0.000000    0.538000    6.208500   \n",
       "75%      3.677083   12.500000   18.100000    0.000000    0.624000    6.623500   \n",
       "max     88.976200  100.000000   27.740000    1.000000    0.871000    8.780000   \n",
       "\n",
       "              AGE         DIS         RAD         TAX     PTRATIO           B  \\\n",
       "count  506.000000  506.000000  506.000000  506.000000  506.000000  506.000000   \n",
       "mean    68.574901    3.795043    9.549407  408.237154   18.455534  356.674032   \n",
       "std     28.148861    2.105710    8.707259  168.537116    2.164946   91.294864   \n",
       "min      2.900000    1.129600    1.000000  187.000000   12.600000    0.320000   \n",
       "25%     45.025000    2.100175    4.000000  279.000000   17.400000  375.377500   \n",
       "50%     77.500000    3.207450    5.000000  330.000000   19.050000  391.440000   \n",
       "75%     94.075000    5.188425   24.000000  666.000000   20.200000  396.225000   \n",
       "max    100.000000   12.126500   24.000000  711.000000   22.000000  396.900000   \n",
       "\n",
       "            LSTAT       PRICE  \n",
       "count  506.000000  506.000000  \n",
       "mean    12.653063   22.532806  \n",
       "std      7.141062    9.197104  \n",
       "min      1.730000    5.000000  \n",
       "25%      6.950000   17.025000  \n",
       "50%     11.360000   21.200000  \n",
       "75%     16.955000   25.000000  \n",
       "max     37.970000   50.000000  "
      ]
     },
     "execution_count": 21,
     "metadata": {},
     "output_type": "execute_result"
    }
   ],
   "source": [
    "data.describe()"
   ]
  },
  {
   "cell_type": "code",
   "execution_count": 22,
   "id": "a1824dde",
   "metadata": {},
   "outputs": [
    {
     "name": "stdout",
     "output_type": "stream",
     "text": [
      "<class 'pandas.core.frame.DataFrame'>\n",
      "RangeIndex: 506 entries, 0 to 505\n",
      "Data columns (total 14 columns):\n",
      " #   Column   Non-Null Count  Dtype  \n",
      "---  ------   --------------  -----  \n",
      " 0   CRIM     506 non-null    float64\n",
      " 1   ZN       506 non-null    float64\n",
      " 2   INDUS    506 non-null    float64\n",
      " 3   CHAS     506 non-null    float64\n",
      " 4   NOX      506 non-null    float64\n",
      " 5   RM       506 non-null    float64\n",
      " 6   AGE      506 non-null    float64\n",
      " 7   DIS      506 non-null    float64\n",
      " 8   RAD      506 non-null    float64\n",
      " 9   TAX      506 non-null    float64\n",
      " 10  PTRATIO  506 non-null    float64\n",
      " 11  B        506 non-null    float64\n",
      " 12  LSTAT    506 non-null    float64\n",
      " 13  PRICE    506 non-null    float64\n",
      "dtypes: float64(14)\n",
      "memory usage: 55.5 KB\n"
     ]
    }
   ],
   "source": [
    "data.info()"
   ]
  },
  {
   "cell_type": "markdown",
   "id": "71fa577f",
   "metadata": {},
   "source": [
    "Observando la distribución de los precios"
   ]
  },
  {
   "cell_type": "code",
   "execution_count": 26,
   "id": "18222e58",
   "metadata": {},
   "outputs": [
    {
     "data": {
      "text/plain": [
       "<seaborn.axisgrid.FacetGrid at 0x7f575af2e730>"
      ]
     },
     "execution_count": 26,
     "metadata": {},
     "output_type": "execute_result"
    },
    {
     "data": {
      "image/png": "[encoded data removed]",
      "text/plain": [
       "<Figure size 360x360 with 1 Axes>"
      ]
     },
     "metadata": {
      "needs_background": "light"
     },
     "output_type": "display_data"
    }
   ],
   "source": [
    "import seaborn as sns\n",
    "sns.displot(data=data.PRICE)"
   ]
  },
  {
   "cell_type": "code",
   "execution_count": 27,
   "id": "a1aea931",
   "metadata": {},
   "outputs": [
    {
     "data": {
      "text/plain": [
       "<AxesSubplot:>"
      ]
     },
     "execution_count": 27,
     "metadata": {},
     "output_type": "execute_result"
    },
    {
     "data": {
      "image/png": "[encoded data removed]",
      "text/plain": [
       "<Figure size 432x288 with 1 Axes>"
      ]
     },
     "metadata": {
      "needs_background": "light"
     },
     "output_type": "display_data"
    }
   ],
   "source": [
    "sns.boxplot(data=data.PRICE)"
   ]
  },
  {
   "cell_type": "markdown",
   "id": "2c8b8e2e",
   "metadata": {},
   "source": [
    "Calculando los coefficientes de correlación"
   ]
  },
  {
   "cell_type": "code",
   "execution_count": 28,
   "id": "64da00ae",
   "metadata": {},
   "outputs": [],
   "source": [
    "correlation = data.corr()"
   ]
  },
  {
   "cell_type": "code",
   "execution_count": 29,
   "id": "0e4dcfa4",
   "metadata": {},
   "outputs": [
    {
     "data": {
      "text/plain": [
       "CRIM      -0.388305\n",
       "ZN         0.360445\n",
       "INDUS     -0.483725\n",
       "CHAS       0.175260\n",
       "NOX       -0.427321\n",
       "RM         0.695360\n",
       "AGE       -0.376955\n",
       "DIS        0.249929\n",
       "RAD       -0.381626\n",
       "TAX       -0.468536\n",
       "PTRATIO   -0.507787\n",
       "B          0.333461\n",
       "LSTAT     -0.737663\n",
       "PRICE      1.000000\n",
       "Name: PRICE, dtype: float64"
      ]
     },
     "execution_count": 29,
     "metadata": {},
     "output_type": "execute_result"
    }
   ],
   "source": [
    "correlation.loc['PRICE']"
   ]
  },
  {
   "cell_type": "code",
   "execution_count": 31,
   "id": "4ad7148e",
   "metadata": {},
   "outputs": [],
   "source": [
    "import matplotlib.pyplot as plt"
   ]
  },
  {
   "cell_type": "code",
   "execution_count": 33,
   "id": "3909e132",
   "metadata": {},
   "outputs": [
    {
     "data": {
      "text/plain": [
       "<AxesSubplot:>"
      ]
     },
     "execution_count": 33,
     "metadata": {},
     "output_type": "execute_result"
    },
    {
     "data": {
      "image/png": "[encoded data removed]",
      "text/plain": [
       "<Figure size 1080x864 with 2 Axes>"
      ]
     },
     "metadata": {
      "needs_background": "light"
     },
     "output_type": "display_data"
    }
   ],
   "source": [
    "fig, axes = plt.subplots(figsize=(15,12))\n",
    "sns.heatmap(correlation, square=True, annot=True)"
   ]
  },
  {
   "cell_type": "markdown",
   "id": "6dfa14d5",
   "metadata": {},
   "source": [
    "Observando las variables más llamativas obtenidas del analísis de correlación"
   ]
  },
  {
   "cell_type": "code",
   "execution_count": 34,
   "id": "fe618607",
   "metadata": {},
   "outputs": [
    {
     "data": {
      "image/png": "[encoded data removed]",
      "text/plain": [
       "<Figure size 1440x360 with 3 Axes>"
      ]
     },
     "metadata": {
      "needs_background": "light"
     },
     "output_type": "display_data"
    }
   ],
   "source": [
    "plt.figure(figsize=(20,5))\n",
    "features = ['LSTAT', 'RM', 'PTRATIO']\n",
    "for i, col in enumerate(features):\n",
    "    plt.subplot(1, len(features), i+1)\n",
    "    x = data[col]\n",
    "    y = data.PRICE\n",
    "    plt.scatter(x, y, marker='o')\n",
    "    plt.title(\"Variation in House prices\")\n",
    "    plt.xlabel(col)\n",
    "    plt.ylabel('\"House prices in $1000\"')"
   ]
  },
  {
   "cell_type": "markdown",
   "id": "c96ca1ef",
   "metadata": {},
   "source": [
    "### Preparando los datos para el entrenamiento"
   ]
  },
  {
   "cell_type": "code",
   "execution_count": 36,
   "id": "aa3984d6",
   "metadata": {},
   "outputs": [],
   "source": [
    "X = data.iloc[:,:-1]"
   ]
  },
  {
   "cell_type": "code",
   "execution_count": 39,
   "id": "f557368d",
   "metadata": {},
   "outputs": [],
   "source": [
    "y = data.PRICE"
   ]
  },
  {
   "cell_type": "code",
   "execution_count": 40,
   "id": "5484cfa7",
   "metadata": {},
   "outputs": [],
   "source": [
    "from sklearn.model_selection import train_test_split"
   ]
  },
  {
   "cell_type": "code",
   "execution_count": 41,
   "id": "1c10be7b",
   "metadata": {},
   "outputs": [],
   "source": [
    "X_train, X_test, y_train, y_test = train_test_split(X,y, test_size = 0.2, random_state = 4)"
   ]
  },
  {
   "cell_type": "code",
   "execution_count": 42,
   "id": "eb08402f",
   "metadata": {},
   "outputs": [],
   "source": [
    "from sklearn.preprocessing import StandardScaler"
   ]
  },
  {
   "cell_type": "code",
   "execution_count": 43,
   "id": "545988f7",
   "metadata": {},
   "outputs": [],
   "source": [
    "sc = StandardScaler()"
   ]
  },
  {
   "cell_type": "code",
   "execution_count": 44,
   "id": "11d49c47",
   "metadata": {},
   "outputs": [],
   "source": [
    "X_train = sc.fit_transform(X_train)"
   ]
  },
  {
   "cell_type": "code",
   "execution_count": 45,
   "id": "8fbfa0c5",
   "metadata": {},
   "outputs": [],
   "source": [
    "X_test = sc.transform(X_test)"
   ]
  },
  {
   "cell_type": "markdown",
   "id": "5897ca4c",
   "metadata": {},
   "source": [
    "### Construcción del modelo de red neuronal"
   ]
  },
  {
   "cell_type": "code",
   "execution_count": 50,
   "id": "302b9b9c",
   "metadata": {},
   "outputs": [],
   "source": [
    "import keras\n",
    "from keras.layers import Dense, Activation, Dropout\n",
    "from keras.models import Sequential"
   ]
  },
  {
   "cell_type": "code",
   "execution_count": 51,
   "id": "ba63acd8",
   "metadata": {},
   "outputs": [],
   "source": [
    "model = Sequential()"
   ]
  },
  {
   "cell_type": "markdown",
   "id": "d0c72fa6",
   "metadata": {},
   "source": [
    "Definiendo la arquitectura de la red neuronal"
   ]
  },
  {
   "cell_type": "code",
   "execution_count": 53,
   "id": "3e105477",
   "metadata": {},
   "outputs": [],
   "source": [
    "model.add(Dense(128, activation='relu', input_dim = 13))\n",
    "model.add(Dense(64, activation='relu'))\n",
    "model.add(Dense(32, activation='relu'))\n",
    "model.add(Dense(16, activation='relu'))\n",
    "model.add(Dense(1))\n",
    "model.compile(optimizer='adam', loss='mean_squared_error')"
   ]
  },
  {
   "cell_type": "markdown",
   "id": "9024e804",
   "metadata": {},
   "source": [
    "Entrenando la red neuronal"
   ]
  },
  {
   "cell_type": "code",
   "execution_count": 54,
   "id": "25eada27",
   "metadata": {},
   "outputs": [
    {
     "name": "stdout",
     "output_type": "stream",
     "text": [
      "Epoch 1/100\n",
      "13/13 [==============================] - 15s 2ms/step - loss: 586.9261\n",
      "Epoch 2/100\n",
      "13/13 [==============================] - 0s 5ms/step - loss: 504.9662\n",
      "Epoch 3/100\n",
      "13/13 [==============================] - 0s 3ms/step - loss: 329.5313\n",
      "Epoch 4/100\n",
      "13/13 [==============================] - 0s 3ms/step - loss: 114.0957\n",
      "Epoch 5/100\n",
      "13/13 [==============================] - 0s 3ms/step - loss: 55.6977\n",
      "Epoch 6/100\n",
      "13/13 [==============================] - 0s 3ms/step - loss: 26.8154\n",
      "Epoch 7/100\n",
      "13/13 [==============================] - 0s 2ms/step - loss: 17.7073\n",
      "Epoch 8/100\n",
      "13/13 [==============================] - 0s 3ms/step - loss: 21.5348\n",
      "Epoch 9/100\n",
      "13/13 [==============================] - 0s 3ms/step - loss: 16.5987\n",
      "Epoch 10/100\n",
      "13/13 [==============================] - 0s 3ms/step - loss: 13.6926\n",
      "Epoch 11/100\n",
      "13/13 [==============================] - 0s 3ms/step - loss: 11.2430\n",
      "Epoch 12/100\n",
      "13/13 [==============================] - 0s 3ms/step - loss: 10.3592\n",
      "Epoch 13/100\n",
      "13/13 [==============================] - 0s 3ms/step - loss: 11.7095\n",
      "Epoch 14/100\n",
      "13/13 [==============================] - 0s 3ms/step - loss: 14.8494\n",
      "Epoch 15/100\n",
      "13/13 [==============================] - 0s 3ms/step - loss: 11.6141\n",
      "Epoch 16/100\n",
      "13/13 [==============================] - 0s 3ms/step - loss: 9.1067\n",
      "Epoch 17/100\n",
      "13/13 [==============================] - 0s 3ms/step - loss: 9.6613\n",
      "Epoch 18/100\n",
      "13/13 [==============================] - 0s 3ms/step - loss: 14.2203\n",
      "Epoch 19/100\n",
      "13/13 [==============================] - 0s 3ms/step - loss: 9.2219\n",
      "Epoch 20/100\n",
      "13/13 [==============================] - 0s 3ms/step - loss: 7.5127\n",
      "Epoch 21/100\n",
      "13/13 [==============================] - 0s 3ms/step - loss: 11.1469\n",
      "Epoch 22/100\n",
      "13/13 [==============================] - 0s 4ms/step - loss: 9.8665\n",
      "Epoch 23/100\n",
      "13/13 [==============================] - 0s 3ms/step - loss: 9.1630\n",
      "Epoch 24/100\n",
      "13/13 [==============================] - 0s 4ms/step - loss: 8.4459\n",
      "Epoch 25/100\n",
      "13/13 [==============================] - 0s 3ms/step - loss: 8.4768\n",
      "Epoch 26/100\n",
      "13/13 [==============================] - 0s 3ms/step - loss: 8.2416\n",
      "Epoch 27/100\n",
      "13/13 [==============================] - 0s 3ms/step - loss: 8.9542\n",
      "Epoch 28/100\n",
      "13/13 [==============================] - 0s 3ms/step - loss: 7.7439\n",
      "Epoch 29/100\n",
      "13/13 [==============================] - 0s 3ms/step - loss: 8.6205\n",
      "Epoch 30/100\n",
      "13/13 [==============================] - 0s 5ms/step - loss: 10.0104\n",
      "Epoch 31/100\n",
      "13/13 [==============================] - 0s 3ms/step - loss: 6.8064\n",
      "Epoch 32/100\n",
      "13/13 [==============================] - 0s 3ms/step - loss: 6.4711\n",
      "Epoch 33/100\n",
      "13/13 [==============================] - 0s 4ms/step - loss: 7.3245\n",
      "Epoch 34/100\n",
      "13/13 [==============================] - 0s 3ms/step - loss: 6.3654\n",
      "Epoch 35/100\n",
      "13/13 [==============================] - 0s 3ms/step - loss: 8.3157\n",
      "Epoch 36/100\n",
      "13/13 [==============================] - 0s 3ms/step - loss: 6.1892\n",
      "Epoch 37/100\n",
      "13/13 [==============================] - 0s 3ms/step - loss: 7.7888\n",
      "Epoch 38/100\n",
      "13/13 [==============================] - 0s 3ms/step - loss: 8.2177\n",
      "Epoch 39/100\n",
      "13/13 [==============================] - 0s 4ms/step - loss: 6.7666\n",
      "Epoch 40/100\n",
      "13/13 [==============================] - 0s 3ms/step - loss: 6.2496\n",
      "Epoch 41/100\n",
      "13/13 [==============================] - 0s 3ms/step - loss: 6.5795\n",
      "Epoch 42/100\n",
      "13/13 [==============================] - 0s 3ms/step - loss: 5.3427\n",
      "Epoch 43/100\n",
      "13/13 [==============================] - 0s 3ms/step - loss: 6.4896\n",
      "Epoch 44/100\n",
      "13/13 [==============================] - 0s 3ms/step - loss: 5.1552\n",
      "Epoch 45/100\n",
      "13/13 [==============================] - 0s 3ms/step - loss: 6.7148\n",
      "Epoch 46/100\n",
      "13/13 [==============================] - 0s 3ms/step - loss: 5.3051\n",
      "Epoch 47/100\n",
      "13/13 [==============================] - 0s 3ms/step - loss: 4.8733\n",
      "Epoch 48/100\n",
      "13/13 [==============================] - 0s 3ms/step - loss: 5.7832\n",
      "Epoch 49/100\n",
      "13/13 [==============================] - 0s 3ms/step - loss: 4.8653\n",
      "Epoch 50/100\n",
      "13/13 [==============================] - 0s 3ms/step - loss: 5.7771\n",
      "Epoch 51/100\n",
      "13/13 [==============================] - 0s 3ms/step - loss: 4.5463\n",
      "Epoch 52/100\n",
      "13/13 [==============================] - 0s 4ms/step - loss: 4.6723\n",
      "Epoch 53/100\n",
      "13/13 [==============================] - 0s 4ms/step - loss: 4.7725\n",
      "Epoch 54/100\n",
      "13/13 [==============================] - 0s 4ms/step - loss: 3.8493\n",
      "Epoch 55/100\n",
      "13/13 [==============================] - 0s 5ms/step - loss: 4.4639\n",
      "Epoch 56/100\n",
      "13/13 [==============================] - 0s 4ms/step - loss: 4.0582\n",
      "Epoch 57/100\n",
      "13/13 [==============================] - 0s 3ms/step - loss: 3.6706\n",
      "Epoch 58/100\n",
      "13/13 [==============================] - 0s 3ms/step - loss: 4.4159\n",
      "Epoch 59/100\n",
      "13/13 [==============================] - 0s 3ms/step - loss: 3.9814\n",
      "Epoch 60/100\n",
      "13/13 [==============================] - 0s 4ms/step - loss: 3.7978\n",
      "Epoch 61/100\n",
      "13/13 [==============================] - 0s 5ms/step - loss: 3.7584\n",
      "Epoch 62/100\n",
      "13/13 [==============================] - 0s 4ms/step - loss: 4.7628\n",
      "Epoch 63/100\n",
      "13/13 [==============================] - 0s 4ms/step - loss: 3.7640\n",
      "Epoch 64/100\n",
      "13/13 [==============================] - 0s 4ms/step - loss: 4.2632\n",
      "Epoch 65/100\n",
      "13/13 [==============================] - 0s 3ms/step - loss: 3.6611\n",
      "Epoch 66/100\n",
      "13/13 [==============================] - 0s 4ms/step - loss: 3.4057\n",
      "Epoch 67/100\n",
      "13/13 [==============================] - 0s 3ms/step - loss: 4.2729\n",
      "Epoch 68/100\n",
      "13/13 [==============================] - 0s 4ms/step - loss: 4.0470\n",
      "Epoch 69/100\n",
      "13/13 [==============================] - 0s 4ms/step - loss: 4.6172\n",
      "Epoch 70/100\n",
      "13/13 [==============================] - 0s 3ms/step - loss: 5.8933\n",
      "Epoch 71/100\n",
      "13/13 [==============================] - 0s 4ms/step - loss: 4.0761\n",
      "Epoch 72/100\n",
      "13/13 [==============================] - 0s 3ms/step - loss: 3.6938\n",
      "Epoch 73/100\n",
      "13/13 [==============================] - 0s 3ms/step - loss: 3.5321\n",
      "Epoch 74/100\n",
      "13/13 [==============================] - 0s 3ms/step - loss: 5.2945\n",
      "Epoch 75/100\n",
      "13/13 [==============================] - 0s 3ms/step - loss: 3.7234\n",
      "Epoch 76/100\n",
      "13/13 [==============================] - 0s 4ms/step - loss: 3.1456\n",
      "Epoch 77/100\n",
      "13/13 [==============================] - 0s 4ms/step - loss: 3.1319\n",
      "Epoch 78/100\n",
      "13/13 [==============================] - 0s 4ms/step - loss: 3.7920\n",
      "Epoch 79/100\n",
      "13/13 [==============================] - 0s 3ms/step - loss: 3.1307\n",
      "Epoch 80/100\n",
      "13/13 [==============================] - 0s 3ms/step - loss: 4.2429\n",
      "Epoch 81/100\n",
      "13/13 [==============================] - 0s 3ms/step - loss: 3.5938\n",
      "Epoch 82/100\n",
      "13/13 [==============================] - 0s 3ms/step - loss: 3.0202\n",
      "Epoch 83/100\n",
      "13/13 [==============================] - 0s 3ms/step - loss: 3.1307\n",
      "Epoch 84/100\n",
      "13/13 [==============================] - 0s 4ms/step - loss: 3.3729\n",
      "Epoch 85/100\n",
      "13/13 [==============================] - 0s 3ms/step - loss: 2.8520\n",
      "Epoch 86/100\n",
      "13/13 [==============================] - 0s 3ms/step - loss: 3.1072\n",
      "Epoch 87/100\n",
      "13/13 [==============================] - 0s 3ms/step - loss: 2.5570\n",
      "Epoch 88/100\n",
      "13/13 [==============================] - 0s 3ms/step - loss: 2.7645\n",
      "Epoch 89/100\n",
      "13/13 [==============================] - 0s 3ms/step - loss: 2.9271\n",
      "Epoch 90/100\n",
      "13/13 [==============================] - 0s 3ms/step - loss: 2.6950\n",
      "Epoch 91/100\n",
      "13/13 [==============================] - 0s 3ms/step - loss: 2.8767\n",
      "Epoch 92/100\n",
      "13/13 [==============================] - 0s 3ms/step - loss: 2.4233\n",
      "Epoch 93/100\n",
      "13/13 [==============================] - 0s 4ms/step - loss: 2.7048\n",
      "Epoch 94/100\n",
      "13/13 [==============================] - 0s 3ms/step - loss: 2.7012\n",
      "Epoch 95/100\n",
      "13/13 [==============================] - 0s 3ms/step - loss: 2.7719\n",
      "Epoch 96/100\n",
      "13/13 [==============================] - 0s 3ms/step - loss: 2.4201\n",
      "Epoch 97/100\n",
      "13/13 [==============================] - 0s 3ms/step - loss: 2.4178\n",
      "Epoch 98/100\n",
      "13/13 [==============================] - 0s 4ms/step - loss: 2.5083\n",
      "Epoch 99/100\n",
      "13/13 [==============================] - 0s 3ms/step - loss: 2.5458\n",
      "Epoch 100/100\n",
      "13/13 [==============================] - 0s 3ms/step - loss: 2.5559\n"
     ]
    },
    {
     "data": {
      "text/plain": [
       "<keras.callbacks.History at 0x7f5718059310>"
      ]
     },
     "execution_count": 54,
     "metadata": {},
     "output_type": "execute_result"
    }
   ],
   "source": [
    "model.fit(X_train, y_train, epochs=100)"
   ]
  },
  {
   "cell_type": "markdown",
   "id": "d6c0ec8a",
   "metadata": {},
   "source": [
    "### Evaluando los resultados"
   ]
  },
  {
   "cell_type": "code",
   "execution_count": 55,
   "id": "7206c11a",
   "metadata": {},
   "outputs": [],
   "source": [
    "y_pred = model.predict(X_test)"
   ]
  },
  {
   "cell_type": "code",
   "execution_count": 56,
   "id": "e9ef2e93",
   "metadata": {},
   "outputs": [],
   "source": [
    "from sklearn.metrics import r2_score"
   ]
  },
  {
   "cell_type": "code",
   "execution_count": 57,
   "id": "a9e3c741",
   "metadata": {},
   "outputs": [],
   "source": [
    "r2 = r2_score(y_test, y_pred)"
   ]
  },
  {
   "cell_type": "code",
   "execution_count": 58,
   "id": "3b73eb3d",
   "metadata": {},
   "outputs": [
    {
     "name": "stdout",
     "output_type": "stream",
     "text": [
      "0.9051913696866637\n"
     ]
    }
   ],
   "source": [
    "print(r2)"
   ]
  },
  {
   "cell_type": "code",
   "execution_count": 59,
   "id": "9e7ad31b",
   "metadata": {},
   "outputs": [
    {
     "name": "stdout",
     "output_type": "stream",
     "text": [
      "2.9676084866841217\n"
     ]
    }
   ],
   "source": [
    "from sklearn.metrics import mean_squared_error\n",
    "rmse = (np.sqrt(mean_squared_error(y_test, y_pred)))\n",
    "print(rmse)"
   ]
  }
 ],
 "metadata": {
  "kernelspec": {
   "display_name": "env",
   "language": "python",
   "name": "env"
  },
  "language_info": {
   "codemirror_mode": {
    "name": "ipython",
    "version": 3
   },
   "file_extension": ".py",
   "mimetype": "text/x-python",
   "name": "python",
   "nbconvert_exporter": "python",
   "pygments_lexer": "ipython3",
   "version": "3.9.4"
  }
 },
 "nbformat": 4,
 "nbformat_minor": 5
}
